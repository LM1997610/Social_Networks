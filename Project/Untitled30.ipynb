{
  "nbformat": 4,
  "nbformat_minor": 0,
  "metadata": {
    "colab": {
      "provenance": [],
      "authorship_tag": "ABX9TyPCoOrCOdgpVW4kw/8RskNf",
      "include_colab_link": true
    },
    "kernelspec": {
      "name": "python3",
      "display_name": "Python 3"
    },
    "language_info": {
      "name": "python"
    },
    "widgets": {
      "application/vnd.jupyter.widget-state+json": {
        "63cb4e10e60643a198e422cbe5461cf1": {
          "model_module": "@jupyter-widgets/controls",
          "model_name": "HBoxModel",
          "model_module_version": "1.5.0",
          "state": {
            "_dom_classes": [],
            "_model_module": "@jupyter-widgets/controls",
            "_model_module_version": "1.5.0",
            "_model_name": "HBoxModel",
            "_view_count": null,
            "_view_module": "@jupyter-widgets/controls",
            "_view_module_version": "1.5.0",
            "_view_name": "HBoxView",
            "box_style": "",
            "children": [
              "IPY_MODEL_ac3759066e82484db838a8d54117d1c3",
              "IPY_MODEL_35cb725f63fd4ad29d26a07a83105907",
              "IPY_MODEL_b40b6e0d4f4c428580609e2b22dd3213"
            ],
            "layout": "IPY_MODEL_6d96e4b15d794f9f9f6dc5dde32fd7e2"
          }
        },
        "ac3759066e82484db838a8d54117d1c3": {
          "model_module": "@jupyter-widgets/controls",
          "model_name": "HTMLModel",
          "model_module_version": "1.5.0",
          "state": {
            "_dom_classes": [],
            "_model_module": "@jupyter-widgets/controls",
            "_model_module_version": "1.5.0",
            "_model_name": "HTMLModel",
            "_view_count": null,
            "_view_module": "@jupyter-widgets/controls",
            "_view_module_version": "1.5.0",
            "_view_name": "HTMLView",
            "description": "",
            "description_tooltip": null,
            "layout": "IPY_MODEL_81992b4f11184e699e0de79245b6b696",
            "placeholder": "​",
            "style": "IPY_MODEL_78db4b52138448ff98e734d3a240104f",
            "value": "100%"
          }
        },
        "35cb725f63fd4ad29d26a07a83105907": {
          "model_module": "@jupyter-widgets/controls",
          "model_name": "FloatProgressModel",
          "model_module_version": "1.5.0",
          "state": {
            "_dom_classes": [],
            "_model_module": "@jupyter-widgets/controls",
            "_model_module_version": "1.5.0",
            "_model_name": "FloatProgressModel",
            "_view_count": null,
            "_view_module": "@jupyter-widgets/controls",
            "_view_module_version": "1.5.0",
            "_view_name": "ProgressView",
            "bar_style": "success",
            "description": "",
            "description_tooltip": null,
            "layout": "IPY_MODEL_bdd96d5f48fb4d8b80fc62d09254e578",
            "max": 15000,
            "min": 0,
            "orientation": "horizontal",
            "style": "IPY_MODEL_2a61a04a84ba4241b0e7d22978050432",
            "value": 15000
          }
        },
        "b40b6e0d4f4c428580609e2b22dd3213": {
          "model_module": "@jupyter-widgets/controls",
          "model_name": "HTMLModel",
          "model_module_version": "1.5.0",
          "state": {
            "_dom_classes": [],
            "_model_module": "@jupyter-widgets/controls",
            "_model_module_version": "1.5.0",
            "_model_name": "HTMLModel",
            "_view_count": null,
            "_view_module": "@jupyter-widgets/controls",
            "_view_module_version": "1.5.0",
            "_view_name": "HTMLView",
            "description": "",
            "description_tooltip": null,
            "layout": "IPY_MODEL_9fb0c66c2f8947feac58697445bb8653",
            "placeholder": "​",
            "style": "IPY_MODEL_f52c4d998fca488faee4a4f50fd86989",
            "value": " 15000/15000 [38:47&lt;00:00,  7.38it/s]"
          }
        },
        "6d96e4b15d794f9f9f6dc5dde32fd7e2": {
          "model_module": "@jupyter-widgets/base",
          "model_name": "LayoutModel",
          "model_module_version": "1.2.0",
          "state": {
            "_model_module": "@jupyter-widgets/base",
            "_model_module_version": "1.2.0",
            "_model_name": "LayoutModel",
            "_view_count": null,
            "_view_module": "@jupyter-widgets/base",
            "_view_module_version": "1.2.0",
            "_view_name": "LayoutView",
            "align_content": null,
            "align_items": null,
            "align_self": null,
            "border": null,
            "bottom": null,
            "display": null,
            "flex": null,
            "flex_flow": null,
            "grid_area": null,
            "grid_auto_columns": null,
            "grid_auto_flow": null,
            "grid_auto_rows": null,
            "grid_column": null,
            "grid_gap": null,
            "grid_row": null,
            "grid_template_areas": null,
            "grid_template_columns": null,
            "grid_template_rows": null,
            "height": null,
            "justify_content": null,
            "justify_items": null,
            "left": null,
            "margin": null,
            "max_height": null,
            "max_width": null,
            "min_height": null,
            "min_width": null,
            "object_fit": null,
            "object_position": null,
            "order": null,
            "overflow": null,
            "overflow_x": null,
            "overflow_y": null,
            "padding": null,
            "right": null,
            "top": null,
            "visibility": null,
            "width": null
          }
        },
        "81992b4f11184e699e0de79245b6b696": {
          "model_module": "@jupyter-widgets/base",
          "model_name": "LayoutModel",
          "model_module_version": "1.2.0",
          "state": {
            "_model_module": "@jupyter-widgets/base",
            "_model_module_version": "1.2.0",
            "_model_name": "LayoutModel",
            "_view_count": null,
            "_view_module": "@jupyter-widgets/base",
            "_view_module_version": "1.2.0",
            "_view_name": "LayoutView",
            "align_content": null,
            "align_items": null,
            "align_self": null,
            "border": null,
            "bottom": null,
            "display": null,
            "flex": null,
            "flex_flow": null,
            "grid_area": null,
            "grid_auto_columns": null,
            "grid_auto_flow": null,
            "grid_auto_rows": null,
            "grid_column": null,
            "grid_gap": null,
            "grid_row": null,
            "grid_template_areas": null,
            "grid_template_columns": null,
            "grid_template_rows": null,
            "height": null,
            "justify_content": null,
            "justify_items": null,
            "left": null,
            "margin": null,
            "max_height": null,
            "max_width": null,
            "min_height": null,
            "min_width": null,
            "object_fit": null,
            "object_position": null,
            "order": null,
            "overflow": null,
            "overflow_x": null,
            "overflow_y": null,
            "padding": null,
            "right": null,
            "top": null,
            "visibility": null,
            "width": null
          }
        },
        "78db4b52138448ff98e734d3a240104f": {
          "model_module": "@jupyter-widgets/controls",
          "model_name": "DescriptionStyleModel",
          "model_module_version": "1.5.0",
          "state": {
            "_model_module": "@jupyter-widgets/controls",
            "_model_module_version": "1.5.0",
            "_model_name": "DescriptionStyleModel",
            "_view_count": null,
            "_view_module": "@jupyter-widgets/base",
            "_view_module_version": "1.2.0",
            "_view_name": "StyleView",
            "description_width": ""
          }
        },
        "bdd96d5f48fb4d8b80fc62d09254e578": {
          "model_module": "@jupyter-widgets/base",
          "model_name": "LayoutModel",
          "model_module_version": "1.2.0",
          "state": {
            "_model_module": "@jupyter-widgets/base",
            "_model_module_version": "1.2.0",
            "_model_name": "LayoutModel",
            "_view_count": null,
            "_view_module": "@jupyter-widgets/base",
            "_view_module_version": "1.2.0",
            "_view_name": "LayoutView",
            "align_content": null,
            "align_items": null,
            "align_self": null,
            "border": null,
            "bottom": null,
            "display": null,
            "flex": null,
            "flex_flow": null,
            "grid_area": null,
            "grid_auto_columns": null,
            "grid_auto_flow": null,
            "grid_auto_rows": null,
            "grid_column": null,
            "grid_gap": null,
            "grid_row": null,
            "grid_template_areas": null,
            "grid_template_columns": null,
            "grid_template_rows": null,
            "height": null,
            "justify_content": null,
            "justify_items": null,
            "left": null,
            "margin": null,
            "max_height": null,
            "max_width": null,
            "min_height": null,
            "min_width": null,
            "object_fit": null,
            "object_position": null,
            "order": null,
            "overflow": null,
            "overflow_x": null,
            "overflow_y": null,
            "padding": null,
            "right": null,
            "top": null,
            "visibility": null,
            "width": null
          }
        },
        "2a61a04a84ba4241b0e7d22978050432": {
          "model_module": "@jupyter-widgets/controls",
          "model_name": "ProgressStyleModel",
          "model_module_version": "1.5.0",
          "state": {
            "_model_module": "@jupyter-widgets/controls",
            "_model_module_version": "1.5.0",
            "_model_name": "ProgressStyleModel",
            "_view_count": null,
            "_view_module": "@jupyter-widgets/base",
            "_view_module_version": "1.2.0",
            "_view_name": "StyleView",
            "bar_color": null,
            "description_width": ""
          }
        },
        "9fb0c66c2f8947feac58697445bb8653": {
          "model_module": "@jupyter-widgets/base",
          "model_name": "LayoutModel",
          "model_module_version": "1.2.0",
          "state": {
            "_model_module": "@jupyter-widgets/base",
            "_model_module_version": "1.2.0",
            "_model_name": "LayoutModel",
            "_view_count": null,
            "_view_module": "@jupyter-widgets/base",
            "_view_module_version": "1.2.0",
            "_view_name": "LayoutView",
            "align_content": null,
            "align_items": null,
            "align_self": null,
            "border": null,
            "bottom": null,
            "display": null,
            "flex": null,
            "flex_flow": null,
            "grid_area": null,
            "grid_auto_columns": null,
            "grid_auto_flow": null,
            "grid_auto_rows": null,
            "grid_column": null,
            "grid_gap": null,
            "grid_row": null,
            "grid_template_areas": null,
            "grid_template_columns": null,
            "grid_template_rows": null,
            "height": null,
            "justify_content": null,
            "justify_items": null,
            "left": null,
            "margin": null,
            "max_height": null,
            "max_width": null,
            "min_height": null,
            "min_width": null,
            "object_fit": null,
            "object_position": null,
            "order": null,
            "overflow": null,
            "overflow_x": null,
            "overflow_y": null,
            "padding": null,
            "right": null,
            "top": null,
            "visibility": null,
            "width": null
          }
        },
        "f52c4d998fca488faee4a4f50fd86989": {
          "model_module": "@jupyter-widgets/controls",
          "model_name": "DescriptionStyleModel",
          "model_module_version": "1.5.0",
          "state": {
            "_model_module": "@jupyter-widgets/controls",
            "_model_module_version": "1.5.0",
            "_model_name": "DescriptionStyleModel",
            "_view_count": null,
            "_view_module": "@jupyter-widgets/base",
            "_view_module_version": "1.2.0",
            "_view_name": "StyleView",
            "description_width": ""
          }
        }
      }
    }
  },
  "cells": [
    {
      "cell_type": "markdown",
      "metadata": {
        "id": "view-in-github",
        "colab_type": "text"
      },
      "source": [
        "<a href=\"https://colab.research.google.com/github/LM1997610/Social_Networks/blob/main/Project/Untitled30.ipynb\" target=\"_parent\"><img src=\"https://colab.research.google.com/assets/colab-badge.svg\" alt=\"Open In Colab\"/></a>"
      ]
    },
    {
      "cell_type": "markdown",
      "source": [
        "# <h1><center>Social Networks and Online Markets</center></h1>\n",
        "## <h2><center>Aris project</center></h2>\n",
        "## <h4><center>2023/2024</center></h4>\n",
        "## <h3><center>Luca Mazzucco: 1997610</center></h3>"
      ],
      "metadata": {
        "id": "0490GC3Ekk7n"
      }
    },
    {
      "cell_type": "code",
      "source": [
        "! pip -q install scikit-network"
      ],
      "metadata": {
        "colab": {
          "base_uri": "https://localhost:8080/"
        },
        "id": "n_HOJbfm35rJ",
        "outputId": "8f5092bd-84c4-4098-d935-97ddb15535c1"
      },
      "execution_count": 1,
      "outputs": [
        {
          "output_type": "stream",
          "name": "stdout",
          "text": [
            "\u001b[2K     \u001b[90m━━━━━━━━━━━━━━━━━━━━━━━━━━━━━━━━━━━━━━━━\u001b[0m \u001b[32m6.0/6.0 MB\u001b[0m \u001b[31m9.9 MB/s\u001b[0m eta \u001b[36m0:00:00\u001b[0m\n",
            "\u001b[?25h"
          ]
        }
      ]
    },
    {
      "cell_type": "code",
      "source": [
        "import os\n",
        "\n",
        "import pickle\n",
        "import random\n",
        "import numpy as np\n",
        "import networkx as nx\n",
        "import matplotlib.pyplot as plt\n",
        "\n",
        "from tqdm.auto import tqdm\n",
        "from collections import Counter\n",
        "from tabulate import tabulate\n",
        "from sknetwork.data import load_netset"
      ],
      "metadata": {
        "id": "8KJBoy1qG_ip"
      },
      "execution_count": 2,
      "outputs": []
    },
    {
      "cell_type": "code",
      "source": [
        "! git clone -q https://github.com/LM1997610/Social_Networks\n",
        "\n",
        "if os.getcwd().split('/')[-1] != 'Social_Networks':\n",
        "   os.chdir('Social_Networks/Project')"
      ],
      "metadata": {
        "id": "yDM5YYgQJ7bh"
      },
      "execution_count": 3,
      "outputs": []
    },
    {
      "cell_type": "code",
      "source": [
        "from visualize import visualize_degree_distrib"
      ],
      "metadata": {
        "id": "Riw4flxOKOe0"
      },
      "execution_count": 4,
      "outputs": []
    },
    {
      "cell_type": "code",
      "source": [
        "wikivitals = load_netset('wikivitals')"
      ],
      "metadata": {
        "colab": {
          "base_uri": "https://localhost:8080/"
        },
        "id": "SEsOzBpj3jkR",
        "outputId": "8b3c433f-43c5-4f76-e86f-a50defe3044f"
      },
      "execution_count": 5,
      "outputs": [
        {
          "output_type": "stream",
          "name": "stdout",
          "text": [
            "Downloading wikivitals from NetSet...\n",
            "Unpacking archive...\n",
            "Parsing files...\n",
            "Done.\n"
          ]
        }
      ]
    },
    {
      "cell_type": "code",
      "source": [
        "label_id = {name: i for i, name in enumerate(wikivitals.names_labels)}\n",
        "\n",
        "counted_topics = {category: Counter(wikivitals.labels)[id] for category, id in label_id.items()}\n",
        "\n",
        "table_data = [(category, count) for category, count in counted_topics.items()]\n",
        "print(tabulate(table_data, headers=[\"Label\", \"Counter\"]))"
      ],
      "metadata": {
        "colab": {
          "base_uri": "https://localhost:8080/"
        },
        "id": "sQbUYjhw4DHT",
        "outputId": "868d35b0-972a-4bf4-ca60-440473a8055f"
      },
      "execution_count": 6,
      "outputs": [
        {
          "output_type": "stream",
          "name": "stdout",
          "text": [
            "Label                             Counter\n",
            "------------------------------  ---------\n",
            "Arts                                  673\n",
            "Biological and health sciences       1479\n",
            "Everyday life                         479\n",
            "Geography                            1201\n",
            "History                               680\n",
            "Mathematics                           300\n",
            "People                               1991\n",
            "Philosophy and religion               435\n",
            "Physical sciences                    1097\n",
            "Society and social sciences           930\n",
            "Technology                            746\n"
          ]
        }
      ]
    },
    {
      "cell_type": "code",
      "source": [
        "adj_matrix = wikivitals.adjacency.toarray().astype(int)\n",
        "\n",
        "G = nx.DiGraph(wikivitals.adjacency.toarray())\n",
        "#G = nx.from_numpy_array(wikivitals.adjacency.toarray())\n",
        "\n",
        "print()\n",
        "print(f'Graph is undirected: {np.array_equal(adj_matrix, adj_matrix.T)}')\n",
        "print(f'Graph is directed: {G.is_directed()}\\n')\n",
        "\n",
        "print(f'Number of nodes: {len(G.nodes)}')\n",
        "print(f'Number of edges: {len(G.edges)}\\n')\n",
        "\n",
        "self_loops = list(nx.selfloop_edges(G))\n",
        "G.remove_edges_from(self_loops)\n",
        "\n",
        "print(f'>> removed {len(self_loops)} edges from the graph: {len(G.edges)} edges \\n')\n",
        "\n",
        "isolated_nodes = [node for node in G.nodes if G.degree(node) == 0]\n",
        "print(f'Number of isolated nodes: {len(isolated_nodes)}')"
      ],
      "metadata": {
        "colab": {
          "base_uri": "https://localhost:8080/"
        },
        "id": "mxo5Po2I4Hls",
        "outputId": "0a8ed2f9-1cb1-4873-a98e-df835267d68f"
      },
      "execution_count": 7,
      "outputs": [
        {
          "output_type": "stream",
          "name": "stdout",
          "text": [
            "\n",
            "Graph is undirected: False\n",
            "Graph is directed: True\n",
            "\n",
            "Number of nodes: 10011\n",
            "Number of edges: 824999\n",
            "\n",
            ">> removed 1380 edges from the graph: 823619 edges \n",
            "\n",
            "Number of isolated nodes: 0\n"
          ]
        }
      ]
    },
    {
      "cell_type": "code",
      "source": [
        "degree_distrib = nx.degree_histogram(G)\n",
        "nodes = [i for i in range(0, len(degree_distrib))]\n",
        "\n",
        "degree_distrib = [degree_distrib[i] for i in range(len(degree_distrib))]\n",
        "\n",
        "visualize_degree_distrib(nodes, degree_distrib)"
      ],
      "metadata": {
        "colab": {
          "base_uri": "https://localhost:8080/",
          "height": 396
        },
        "id": "UHIqYSmQ8hGJ",
        "outputId": "dc5fa888-4af1-4e0c-828c-c5a5f182adc7"
      },
      "execution_count": 8,
      "outputs": [
        {
          "output_type": "display_data",
          "data": {
            "text/plain": [
              "<Figure size 1200x300 with 2 Axes>"
            ],
            "image/png": "[encoded data removed]"
          },
          "metadata": {}
        }
      ]
    },
    {
      "cell_type": "code",
      "source": [
        "## For each topic, what are the most cited articles? → Edge analysis\n",
        "\n",
        "def top_cited_articles(class_id, n):\n",
        "\n",
        "  this_class = [x for x,y in enumerate(wikivitals.labels) if y == class_id]\n",
        "  subgraph = G.subgraph(this_class)\n",
        "\n",
        "  node_edge_counts = {node: subgraph.degree(node) for node in subgraph.nodes()}\n",
        "\n",
        "  top_nodes = {k: v for k, v in sorted(node_edge_counts.items(), key=lambda item: item[1], reverse=True)}\n",
        "\n",
        "  top_nodes_names = {wikivitals.names[idx]: count for idx, count in top_nodes.items()}\n",
        "\n",
        "  return [(k, top_nodes_names[k]) for k in list(top_nodes_names)][:n]"
      ],
      "metadata": {
        "id": "BFE1Rc4a_641"
      },
      "execution_count": 9,
      "outputs": []
    },
    {
      "cell_type": "code",
      "source": [
        "for i in range(10):\n",
        "\n",
        "  this_label = [key for key in label_id.keys() if label_id[key] == i][0]\n",
        "  this_top =  [x[0] for x in top_cited_articles(i, 5)]\n",
        "  this_top = [\"'\" + s + \"'\" for s in this_top]\n",
        "\n",
        "  print(f'{[this_label]} → {\", \".join(this_top)}')"
      ],
      "metadata": {
        "colab": {
          "base_uri": "https://localhost:8080/"
        },
        "id": "EqBqWO3hPD0q",
        "outputId": "12589619-6b0f-41c7-a859-5604f2de446a"
      },
      "execution_count": 10,
      "outputs": [
        {
          "output_type": "stream",
          "name": "stdout",
          "text": [
            "['Arts'] → 'Romanticism', 'Modernism', 'Symbolism (arts)', 'Modern art', 'Baroque'\n",
            "['Biological and health sciences'] → 'Taxonomy (biology)', 'Animal', 'Chordate', 'Plant', 'Mammal'\n",
            "['Everyday life'] → 'Marriage', 'Olympic Games', 'Softball', 'Rugby sevens', 'Association football'\n",
            "['Geography'] → 'Geographic coordinate system', 'France', 'Europe', 'United States', 'China'\n",
            "['History'] → 'Ottoman Empire', 'Roman Empire', 'Byzantine Empire', 'Russian Empire', 'British Empire'\n",
            "['Mathematics'] → 'Mathematical analysis', 'Real number', 'Geometry', 'Function (mathematics)', 'Mathematics'\n",
            "['People'] → 'Ralph Waldo Emerson', 'Aristotle', 'Bertrand Russell', 'Jean-Jacques Rousseau', 'Georg Wilhelm Friedrich Hegel'\n",
            "['Philosophy and religion'] → 'Religion', 'Christianity', 'Taoism', 'Mysticism', 'Pantheism'\n",
            "['Physical sciences'] → 'Oxygen', 'Hydrogen', 'Earth', 'Chemical element', 'Nitrogen'\n",
            "['Society and social sciences'] → 'Slavery', 'Law', 'English language', 'Latin', 'European Union'\n"
          ]
        }
      ]
    },
    {
      "cell_type": "code",
      "source": [
        "## WIKIPEDIA RACE"
      ],
      "metadata": {
        "id": "xrhQqRcYf3fm"
      },
      "execution_count": 11,
      "outputs": []
    },
    {
      "cell_type": "code",
      "source": [
        "def find_orphan_nodes(adjacency_matrix, graph):\n",
        "\n",
        "    orphan_nodes = []\n",
        "\n",
        "    for j in range(adjacency_matrix.shape[0]):\n",
        "\n",
        "        if np.all(adjacency_matrix[:, j] == 0): orphan_nodes.append(j)\n",
        "\n",
        "    for node in orphan_nodes:\n",
        "      if list(graph.predecessors(node)): raise ValueError(f'Node {node} is not orphan!')\n",
        "\n",
        "    print(f'\\n Orphan nodes: {len(orphan_nodes)}\\n')\n",
        "\n",
        "    return orphan_nodes"
      ],
      "metadata": {
        "id": "NBJRScXjE2CE"
      },
      "execution_count": 12,
      "outputs": []
    },
    {
      "cell_type": "code",
      "source": [
        "orphan_nodes = find_orphan_nodes(adj_matrix, G)"
      ],
      "metadata": {
        "id": "1SxwUGXAFWD7",
        "outputId": "9d5a930f-8a8b-46ed-89bc-8807773b5e11",
        "colab": {
          "base_uri": "https://localhost:8080/"
        }
      },
      "execution_count": 13,
      "outputs": [
        {
          "output_type": "stream",
          "name": "stdout",
          "text": [
            "\n",
            " Orphan nodes: 30\n",
            "\n"
          ]
        }
      ]
    },
    {
      "cell_type": "code",
      "source": [
        "def find_dead_ends(adjacency_matrix, graph):\n",
        "\n",
        "    death_ends = []\n",
        "\n",
        "    for i in range(adjacency_matrix.shape[0]):\n",
        "\n",
        "        if np.all(adjacency_matrix[i, :] == 0): death_ends.append(i)\n",
        "\n",
        "    for node in death_ends:\n",
        "      if list(graph.successors(node)): raise ValueError(f'Node {node} is not dead end!')\n",
        "\n",
        "    print(f'\\n Dead end nodes: {len(death_ends)}\\n')\n",
        "\n",
        "    return death_ends"
      ],
      "metadata": {
        "id": "waii_vROK4fx"
      },
      "execution_count": 14,
      "outputs": []
    },
    {
      "cell_type": "code",
      "source": [
        "death_ends = find_dead_ends(adj_matrix, G)"
      ],
      "metadata": {
        "id": "o3sYMx2cNpCA",
        "outputId": "0a91842d-bd4f-4e7f-e926-f7a846246562",
        "colab": {
          "base_uri": "https://localhost:8080/"
        }
      },
      "execution_count": 15,
      "outputs": [
        {
          "output_type": "stream",
          "name": "stdout",
          "text": [
            "\n",
            " Dead end nodes: 2\n",
            "\n"
          ]
        }
      ]
    },
    {
      "cell_type": "code",
      "source": [],
      "metadata": {
        "id": "oiiKXmcgtpyP"
      },
      "execution_count": 15,
      "outputs": []
    },
    {
      "cell_type": "code",
      "source": [],
      "metadata": {
        "id": "XidAhF27tpz-"
      },
      "execution_count": 15,
      "outputs": []
    },
    {
      "cell_type": "code",
      "source": [
        "\n",
        "def dijkstra_shortest_path(graph, source, target):\n",
        "\n",
        "    distances = {node: float('inf') for node in graph.nodes()}\n",
        "    distances[source] = 0\n",
        "\n",
        "    predecessors = {node: None for node in graph.nodes()}\n",
        "\n",
        "    queue = [source]\n",
        "\n",
        "    while queue:\n",
        "        current_node = queue.pop(0)\n",
        "\n",
        "        if current_node == target:\n",
        "            path = []\n",
        "            backtrack_node = current_node\n",
        "            while backtrack_node is not None:\n",
        "                path.insert(0, backtrack_node)\n",
        "                backtrack_node = predecessors[backtrack_node]\n",
        "            return path\n",
        "\n",
        "\n",
        "        for neighbor in graph.neighbors(current_node):\n",
        "            if distances[neighbor] == float('inf'):  # Se non è stato visitato\n",
        "                distances[neighbor] = distances[current_node] + 1\n",
        "                predecessors[neighbor] = current_node\n",
        "                queue.append(neighbor)\n",
        "\n",
        "\n",
        "    return []\n"
      ],
      "metadata": {
        "id": "1rrptcW-tp3X"
      },
      "execution_count": 16,
      "outputs": []
    },
    {
      "cell_type": "code",
      "source": [
        "nx.dijkstra_path(G, 0, 111)"
      ],
      "metadata": {
        "id": "XvMWCIrqtRjP",
        "outputId": "b61f9cd2-d490-4745-ce1c-dc57bb513a4c",
        "colab": {
          "base_uri": "https://localhost:8080/"
        }
      },
      "execution_count": 17,
      "outputs": [
        {
          "output_type": "execute_result",
          "data": {
            "text/plain": [
              "[0, 58, 3387, 111]"
            ]
          },
          "metadata": {},
          "execution_count": 17
        }
      ]
    },
    {
      "cell_type": "code",
      "source": [
        "shortest_path = dijkstra_shortest_path(G, 0, 111)\n",
        "shortest_path"
      ],
      "metadata": {
        "id": "9Bsc3Y6as3Jo",
        "outputId": "689421ee-82a8-41c3-85bf-8e2830c8cbc7",
        "colab": {
          "base_uri": "https://localhost:8080/"
        }
      },
      "execution_count": 18,
      "outputs": [
        {
          "output_type": "execute_result",
          "data": {
            "text/plain": [
              "[0, 58, 3387, 111]"
            ]
          },
          "metadata": {},
          "execution_count": 18
        }
      ]
    },
    {
      "cell_type": "code",
      "source": [
        "iterations = 15000\n",
        "\n",
        "d = {}\n",
        "\n",
        "for i in tqdm(range(iterations)):\n",
        "\n",
        "  node1, node2 = random.sample(list(G.nodes()), 2)\n",
        "\n",
        "  # while node1 in death_ends or node2 in orphan_nodes:\n",
        "    #  node1, node2 = random.sample(list(G.nodes()), 2)\n",
        "\n",
        "  while (node1, node2) in d:\n",
        "    node1, node2 = random.sample(list(G.nodes()), 2)\n",
        "    print(f'{node1}, {node2} already in d')\n",
        "\n",
        "  shortest_path = dijkstra_shortest_path(G, node1, node2 )\n",
        "\n",
        "  d[(node1, node2)] = shortest_path\n",
        "\n",
        "with open('dictionary_data.pickle', 'wb') as f:\n",
        "    pickle.dump(d, f)"
      ],
      "metadata": {
        "id": "ieZG7g9js3Qg",
        "outputId": "a414ea85-6385-48a0-e9d2-314ce56edae9",
        "colab": {
          "base_uri": "https://localhost:8080/",
          "height": 101,
          "referenced_widgets": [
            "63cb4e10e60643a198e422cbe5461cf1",
            "ac3759066e82484db838a8d54117d1c3",
            "35cb725f63fd4ad29d26a07a83105907",
            "b40b6e0d4f4c428580609e2b22dd3213",
            "6d96e4b15d794f9f9f6dc5dde32fd7e2",
            "81992b4f11184e699e0de79245b6b696",
            "78db4b52138448ff98e734d3a240104f",
            "bdd96d5f48fb4d8b80fc62d09254e578",
            "2a61a04a84ba4241b0e7d22978050432",
            "9fb0c66c2f8947feac58697445bb8653",
            "f52c4d998fca488faee4a4f50fd86989"
          ]
        }
      },
      "execution_count": 23,
      "outputs": [
        {
          "output_type": "display_data",
          "data": {
            "text/plain": [
              "  0%|          | 0/15000 [00:00<?, ?it/s]"
            ],
            "application/vnd.jupyter.widget-view+json": {
              "version_major": 2,
              "version_minor": 0,
              "model_id": "63cb4e10e60643a198e422cbe5461cf1"
            }
          },
          "metadata": {}
        },
        {
          "output_type": "stream",
          "name": "stdout",
          "text": [
            "5294, 3013 already in d\n",
            "2995, 6672 already in d\n",
            "4850, 8464 already in d\n"
          ]
        }
      ]
    },
    {
      "cell_type": "code",
      "source": [
        "len([(x,v) for x,v in d.items() if len(v) == 5]), len(d)"
      ],
      "metadata": {
        "id": "JQtJ4ZmYBkB_",
        "outputId": "027bd75d-3f8e-4a09-9128-b37e3f483804",
        "colab": {
          "base_uri": "https://localhost:8080/"
        }
      },
      "execution_count": 24,
      "outputs": [
        {
          "output_type": "execute_result",
          "data": {
            "text/plain": [
              "(711, 15000)"
            ]
          },
          "metadata": {},
          "execution_count": 24
        }
      ]
    },
    {
      "cell_type": "code",
      "source": [
        "counter = dict(Counter(len(v) for v in d.values()))\n",
        "sorted_counter = dict(sorted(counter.items()))\n",
        "sorted_counter"
      ],
      "metadata": {
        "id": "bagmMHraBsVn",
        "outputId": "52df7ca7-5c35-47a9-96bc-b11ac65ebfcf",
        "colab": {
          "base_uri": "https://localhost:8080/"
        }
      },
      "execution_count": 25,
      "outputs": [
        {
          "output_type": "execute_result",
          "data": {
            "text/plain": [
              "{0: 64, 2: 118, 3: 4227, 4: 9872, 5: 711, 6: 8}"
            ]
          },
          "metadata": {},
          "execution_count": 25
        }
      ]
    },
    {
      "cell_type": "code",
      "source": [
        "plt.bar(list(sorted_counter.keys()), list(sorted_counter.values()) )\n",
        "plt.grid()\n",
        "plt.show()"
      ],
      "metadata": {
        "id": "2_QE-2siCwkZ",
        "outputId": "b22f94f9-c85e-44b3-894a-74e37a017d50",
        "colab": {
          "base_uri": "https://localhost:8080/",
          "height": 430
        }
      },
      "execution_count": 26,
      "outputs": [
        {
          "output_type": "display_data",
          "data": {
            "text/plain": [
              "<Figure size 640x480 with 1 Axes>"
            ],
            "image/png": "[encoded data removed]"
          },
          "metadata": {}
        }
      ]
    },
    {
      "cell_type": "code",
      "source": [
        "total_keys = sum(sorted_counter.values())\n",
        "\n",
        "weighted_sum = sum(length * count for length, count in sorted_counter.items())\n",
        "\n",
        "weighted_average = weighted_sum / total_keys\n",
        "\n",
        "print(f\"La media ponderata delle lunghezze delle liste è: {weighted_average}\")"
      ],
      "metadata": {
        "id": "bd2zKLksCx7E",
        "outputId": "8ca0b819-c76a-4f46-ebcf-1c8878572be0",
        "colab": {
          "base_uri": "https://localhost:8080/"
        }
      },
      "execution_count": 27,
      "outputs": [
        {
          "output_type": "stream",
          "name": "stdout",
          "text": [
            "La media ponderata delle lunghezze delle liste è: 3.7338666666666667\n"
          ]
        }
      ]
    }
  ]
}