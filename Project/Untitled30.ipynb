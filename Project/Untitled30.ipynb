{
  "nbformat": 4,
  "nbformat_minor": 0,
  "metadata": {
    "colab": {
      "provenance": [],
      "authorship_tag": "ABX9TyNYZT/DV674MP0ayHTmtp3U",
      "include_colab_link": true
    },
    "kernelspec": {
      "name": "python3",
      "display_name": "Python 3"
    },
    "language_info": {
      "name": "python"
    }
  },
  "cells": [
    {
      "cell_type": "markdown",
      "metadata": {
        "id": "view-in-github",
        "colab_type": "text"
      },
      "source": [
        "<a href=\"https://colab.research.google.com/github/LM1997610/Social_Networks/blob/main/final_project/Untitled30.ipynb\" target=\"_parent\"><img src=\"https://colab.research.google.com/assets/colab-badge.svg\" alt=\"Open In Colab\"/></a>"
      ]
    },
    {
      "cell_type": "markdown",
      "source": [
        "# <h1><center>Social Networks and Online Markets</center></h1>\n",
        "## <h2><center>Aris project</center></h2>\n",
        "## <h4><center>2023/2024</center></h4>\n",
        "## <h3><center>Luca Mazzucco: 1997610</center></h3>"
      ],
      "metadata": {
        "id": "0490GC3Ekk7n"
      }
    },
    {
      "cell_type": "code",
      "source": [
        "! pip -q install scikit-network"
      ],
      "metadata": {
        "colab": {
          "base_uri": "https://localhost:8080/"
        },
        "id": "n_HOJbfm35rJ",
        "outputId": "7bbf2bb2-1525-41f9-ab77-2f363648b415"
      },
      "execution_count": 1,
      "outputs": [
        {
          "output_type": "stream",
          "name": "stdout",
          "text": [
            "\u001b[2K     \u001b[90m━━━━━━━━━━━━━━━━━━━━━━━━━━━━━━━━━━━━━━━━\u001b[0m \u001b[32m6.0/6.0 MB\u001b[0m \u001b[31m14.1 MB/s\u001b[0m eta \u001b[36m0:00:00\u001b[0m\n",
            "\u001b[?25h"
          ]
        }
      ]
    },
    {
      "cell_type": "code",
      "source": [
        "from sknetwork.data import load_netset\n",
        "\n",
        "import networkx as nx\n",
        "import matplotlib.pyplot as plt\n",
        "\n",
        "from collections import Counter\n",
        "from pprint import pprint\n",
        "from tabulate import tabulate\n",
        "\n",
        "import os"
      ],
      "metadata": {
        "id": "8KJBoy1qG_ip"
      },
      "execution_count": 2,
      "outputs": []
    },
    {
      "cell_type": "code",
      "source": [
        "! git clone -q https://github.com/LM1997610/Social_Networks\n",
        "\n",
        "if os.getcwd().split('/')[-1] != 'Social_Networks':\n",
        "   os.chdir('Social_Networks/final_project')"
      ],
      "metadata": {
        "id": "yDM5YYgQJ7bh"
      },
      "execution_count": 3,
      "outputs": []
    },
    {
      "cell_type": "code",
      "source": [
        "from visualize import visualize_degree_distrib"
      ],
      "metadata": {
        "id": "Riw4flxOKOe0"
      },
      "execution_count": 4,
      "outputs": []
    },
    {
      "cell_type": "code",
      "source": [
        "wikivitals = load_netset('wikivitals')"
      ],
      "metadata": {
        "colab": {
          "base_uri": "https://localhost:8080/"
        },
        "id": "SEsOzBpj3jkR",
        "outputId": "4cfc3914-bcb9-4ad8-e8df-d741a70d3c36"
      },
      "execution_count": 5,
      "outputs": [
        {
          "output_type": "stream",
          "name": "stdout",
          "text": [
            "Downloading wikivitals from NetSet...\n",
            "Unpacking archive...\n",
            "Parsing files...\n",
            "Done.\n"
          ]
        }
      ]
    },
    {
      "cell_type": "code",
      "source": [
        "label_id = {name: i for i, name in enumerate(wikivitals.names_labels)}\n",
        "\n",
        "counted_topics = {category: Counter(wikivitals.labels)[id] for category, id in label_id.items()}\n",
        "\n",
        "table_data = [(category, count) for category, count in counted_topics.items()]\n",
        "print(tabulate(table_data, headers=[\"Label\", \"Counter\"]))"
      ],
      "metadata": {
        "colab": {
          "base_uri": "https://localhost:8080/"
        },
        "id": "sQbUYjhw4DHT",
        "outputId": "9fdeae41-3e46-4ac8-a655-a6457b081824"
      },
      "execution_count": 6,
      "outputs": [
        {
          "output_type": "stream",
          "name": "stdout",
          "text": [
            "Label                             Counter\n",
            "------------------------------  ---------\n",
            "Arts                                  673\n",
            "Biological and health sciences       1479\n",
            "Everyday life                         479\n",
            "Geography                            1201\n",
            "History                               680\n",
            "Mathematics                           300\n",
            "People                               1991\n",
            "Philosophy and religion               435\n",
            "Physical sciences                    1097\n",
            "Society and social sciences           930\n",
            "Technology                            746\n"
          ]
        }
      ]
    },
    {
      "cell_type": "code",
      "source": [
        "G = nx.from_numpy_array(wikivitals.adjacency.toarray())\n",
        "\n",
        "print()\n",
        "print(f'Number of nodes: {len(G.nodes)}')\n",
        "print(f'Number of edges: {len(G.edges)}\\n')\n",
        "\n",
        "self_loops = list(nx.selfloop_edges(G))\n",
        "G.remove_edges_from(self_loops)\n",
        "\n",
        "print(f'>> removed {len(self_loops)} edges from the graph: {len(G.edges)}\\n')\n",
        "\n",
        "isolated_nodes = [node for node in G.nodes if G.degree(node) == 0]\n",
        "print(f'Number of isolated nodes: {len(isolated_nodes)}')"
      ],
      "metadata": {
        "colab": {
          "base_uri": "https://localhost:8080/"
        },
        "id": "mxo5Po2I4Hls",
        "outputId": "2c226120-3c47-4a3e-a34a-15a2d11e5695"
      },
      "execution_count": 7,
      "outputs": [
        {
          "output_type": "stream",
          "name": "stdout",
          "text": [
            "\n",
            "Number of nodes: 10011\n",
            "Number of edges: 655192\n",
            "\n",
            ">> removed 1380 edges from the graph: 653812\n",
            "\n",
            "Number of isolated nodes: 0\n"
          ]
        }
      ]
    },
    {
      "cell_type": "code",
      "source": [
        "degree_distrib = nx.degree_histogram(G)\n",
        "nodes = [i for i in range(0, len(degree_distrib))]\n",
        "\n",
        "degree_distrib = [degree_distrib[i] for i in range(len(degree_distrib))]\n",
        "\n",
        "visualize_degree_distrib(nodes, degree_distrib)"
      ],
      "metadata": {
        "colab": {
          "base_uri": "https://localhost:8080/",
          "height": 396
        },
        "id": "UHIqYSmQ8hGJ",
        "outputId": "86fbe89e-41b0-493c-a9d2-66ca7e7c2ed7"
      },
      "execution_count": 15,
      "outputs": [
        {
          "output_type": "display_data",
          "data": {
            "text/plain": [
              "<Figure size 1200x300 with 2 Axes>"
            ],
            "image/png": "[encoded data removed]"
          },
          "metadata": {}
        }
      ]
    },
    {
      "cell_type": "code",
      "source": [
        "## per ogni categoria quali sono gli articoli piu citati ?"
      ],
      "metadata": {
        "id": "Bur0yrNXMC8g"
      },
      "execution_count": null,
      "outputs": []
    },
    {
      "cell_type": "code",
      "source": [
        "def top_cited_articles(class_id):\n",
        "\n",
        "  this_class = [x for x,y in enumerate(wikivitals.labels) if y == class_id]\n",
        "  subgraph = G.subgraph(this_class)\n",
        "\n",
        "  node_edge_counts = {node: subgraph.degree(node) for node in subgraph.nodes()}\n",
        "\n",
        "  top_nodes = {k: v for k, v in sorted(node_edge_counts.items(), key=lambda item: item[1], reverse=True)}\n",
        "\n",
        "  top_nodes_names = {wikivitals.names[idx]: count for idx, count in top_nodes.items()}\n",
        "\n",
        "  return [(k, top_nodes_names[k]) for k in list(top_nodes_names)][:5]"
      ],
      "metadata": {
        "id": "BFE1Rc4a_641"
      },
      "execution_count": 64,
      "outputs": []
    },
    {
      "cell_type": "code",
      "source": [
        "for i in range(10):\n",
        "\n",
        "  this_label = [key for key in label_id.keys() if label_id[key] == i][0]\n",
        "  this_top =  [x[0] for x in top_cited_articles(i)]\n",
        "  this_top = [\"'\" + s + \"'\" for s in this_top]\n",
        "\n",
        "  print(f'{[this_label]} → {\", \".join(this_top)}')"
      ],
      "metadata": {
        "colab": {
          "base_uri": "https://localhost:8080/"
        },
        "id": "EqBqWO3hPD0q",
        "outputId": "a5df0511-3de1-4e2b-93f7-b8ff7ae4c0be"
      },
      "execution_count": 94,
      "outputs": [
        {
          "output_type": "stream",
          "name": "stdout",
          "text": [
            "['Arts'] → 'Romanticism', 'Modernism', 'Baroque', 'Symbolism (arts)', 'Sculpture'\n",
            "['Biological and health sciences'] → 'Taxonomy (biology)', 'Animal', 'Chordate', 'Species', 'Plant'\n",
            "['Everyday life'] → 'Olympic Games', 'Food', 'Marriage', 'Sport', 'Association football'\n",
            "['Geography'] → 'Geographic coordinate system', 'United States', 'France', 'Europe', 'China'\n",
            "['History'] → 'Ottoman Empire', 'Roman Empire', 'Byzantine Empire', 'Russian Empire', 'British Empire'\n",
            "['Mathematics'] → 'Real number', 'Mathematical analysis', 'Function (mathematics)', 'Mathematics', 'Geometry'\n",
            "['People'] → 'Aristotle', 'Ralph Waldo Emerson', 'Bertrand Russell', 'Georg Wilhelm Friedrich Hegel', 'Plato'\n",
            "['Philosophy and religion'] → 'Religion', 'Christianity', 'Mysticism', 'Polytheism', 'Zoroastrianism'\n",
            "['Physical sciences'] → 'Oxygen', 'Earth', 'Hydrogen', 'Density', 'Carbon'\n",
            "['Society and social sciences'] → 'Slavery', 'English language', 'The New York Times', 'Latin', 'French language'\n"
          ]
        }
      ]
    },
    {
      "cell_type": "code",
      "source": [],
      "metadata": {
        "id": "OAqQghcvI_XE"
      },
      "execution_count": 14,
      "outputs": []
    }
  ]
}
