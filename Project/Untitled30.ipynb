{
  "nbformat": 4,
  "nbformat_minor": 0,
  "metadata": {
    "colab": {
      "provenance": [],
      "authorship_tag": "ABX9TyOhFR4v4uYC1aHkD93HeIkL",
      "include_colab_link": true
    },
    "kernelspec": {
      "name": "python3",
      "display_name": "Python 3"
    },
    "language_info": {
      "name": "python"
    }
  },
  "cells": [
    {
      "cell_type": "markdown",
      "metadata": {
        "id": "view-in-github",
        "colab_type": "text"
      },
      "source": [
        "<a href=\"https://colab.research.google.com/github/LM1997610/Social_Networks/blob/main/Project/Untitled30.ipynb\" target=\"_parent\"><img src=\"https://colab.research.google.com/assets/colab-badge.svg\" alt=\"Open In Colab\"/></a>"
      ]
    },
    {
      "cell_type": "markdown",
      "source": [
        "# <h1><center>Social Networks and Online Markets</center></h1>\n",
        "## <h2><center>Aris project</center></h2>\n",
        "## <h4><center>2023/2024</center></h4>\n",
        "## <h3><center>Luca Mazzucco: 1997610</center></h3>"
      ],
      "metadata": {
        "id": "0490GC3Ekk7n"
      }
    },
    {
      "cell_type": "code",
      "source": [
        "! pip -q install scikit-network"
      ],
      "metadata": {
        "colab": {
          "base_uri": "https://localhost:8080/"
        },
        "id": "n_HOJbfm35rJ",
        "outputId": "2deb6992-5242-4fec-a5a5-e88a1db15532"
      },
      "execution_count": 1,
      "outputs": [
        {
          "output_type": "stream",
          "name": "stdout",
          "text": [
            "\u001b[2K     \u001b[90m━━━━━━━━━━━━━━━━━━━━━━━━━━━━━━━━━━━━━━━━\u001b[0m \u001b[32m6.0/6.0 MB\u001b[0m \u001b[31m21.6 MB/s\u001b[0m eta \u001b[36m0:00:00\u001b[0m\n",
            "\u001b[?25h"
          ]
        }
      ]
    },
    {
      "cell_type": "code",
      "source": [
        "import os\n",
        "\n",
        "import pickle\n",
        "import random\n",
        "import numpy as np\n",
        "import networkx as nx\n",
        "import matplotlib.pyplot as plt\n",
        "\n",
        "from tqdm.auto import tqdm\n",
        "from collections import Counter\n",
        "from tabulate import tabulate\n",
        "\n",
        "from sknetwork.data import load_netset"
      ],
      "metadata": {
        "id": "8KJBoy1qG_ip"
      },
      "execution_count": 2,
      "outputs": []
    },
    {
      "cell_type": "code",
      "source": [
        "! git clone -q https://github.com/LM1997610/Social_Networks\n",
        "\n",
        "if os.getcwd().split('/')[-1] != 'Social_Networks':\n",
        "   os.chdir('Social_Networks/Project')\n",
        "\n",
        "from visualize import visualize_degree_distrib\n",
        "from visualize import show_length_of_paths\n",
        "from visualize import deg_separation_plot\n",
        "\n",
        "output_dir = 'plot_folder'\n",
        "\n",
        "if not os.path.exists(output_dir): os.makedirs(output_dir)"
      ],
      "metadata": {
        "id": "yDM5YYgQJ7bh"
      },
      "execution_count": 3,
      "outputs": []
    },
    {
      "cell_type": "code",
      "source": [
        "wikivitals = load_netset('wikivitals')"
      ],
      "metadata": {
        "colab": {
          "base_uri": "https://localhost:8080/"
        },
        "id": "SEsOzBpj3jkR",
        "outputId": "0c587a37-0490-4318-c754-22cdf77033fd"
      },
      "execution_count": 5,
      "outputs": [
        {
          "output_type": "stream",
          "name": "stdout",
          "text": [
            "Downloading wikivitals from NetSet...\n",
            "Unpacking archive...\n",
            "Parsing files...\n",
            "Done.\n"
          ]
        }
      ]
    },
    {
      "cell_type": "code",
      "source": [
        "label_id = {name: i for i, name in enumerate(wikivitals.names_labels)}\n",
        "\n",
        "counted_topics = {category: Counter(wikivitals.labels)[id] for category, id in label_id.items()}\n",
        "\n",
        "table_data = [(category, count) for category, count in counted_topics.items()]\n",
        "print(tabulate(table_data, headers=[\"Label\", \"Counter\"]))"
      ],
      "metadata": {
        "colab": {
          "base_uri": "https://localhost:8080/"
        },
        "id": "sQbUYjhw4DHT",
        "outputId": "6b26e53b-ebe1-4d50-cf16-12244a8421c3"
      },
      "execution_count": 6,
      "outputs": [
        {
          "output_type": "stream",
          "name": "stdout",
          "text": [
            "Label                             Counter\n",
            "------------------------------  ---------\n",
            "Arts                                  673\n",
            "Biological and health sciences       1479\n",
            "Everyday life                         479\n",
            "Geography                            1201\n",
            "History                               680\n",
            "Mathematics                           300\n",
            "People                               1991\n",
            "Philosophy and religion               435\n",
            "Physical sciences                    1097\n",
            "Society and social sciences           930\n",
            "Technology                            746\n"
          ]
        }
      ]
    },
    {
      "cell_type": "code",
      "source": [
        "adj_matrix = wikivitals.adjacency.toarray().astype(int)\n",
        "\n",
        "G = nx.DiGraph(wikivitals.adjacency.toarray())\n",
        "#G = nx.from_numpy_array(wikivitals.adjacency.toarray())\n",
        "\n",
        "print()\n",
        "print(f'Graph is undirected: {np.array_equal(adj_matrix, adj_matrix.T)}')\n",
        "print(f'Graph is directed: {G.is_directed()}\\n')\n",
        "\n",
        "print(f'Number of nodes: {len(G.nodes)}')\n",
        "print(f'Number of edges: {len(G.edges)}\\n')\n",
        "\n",
        "self_loops = list(nx.selfloop_edges(G))\n",
        "G.remove_edges_from(self_loops)\n",
        "\n",
        "print(f'>> removed {len(self_loops)} edges from the graph: {len(G.edges)} edges \\n')\n",
        "\n",
        "isolated_nodes = [node for node in G.nodes if G.degree(node) == 0]\n",
        "print(f'Number of isolated nodes: {len(isolated_nodes)}')"
      ],
      "metadata": {
        "colab": {
          "base_uri": "https://localhost:8080/"
        },
        "id": "mxo5Po2I4Hls",
        "outputId": "8c7915fa-eac0-4033-8a4a-45a6ef4532b0"
      },
      "execution_count": 7,
      "outputs": [
        {
          "output_type": "stream",
          "name": "stdout",
          "text": [
            "\n",
            "Graph is undirected: False\n",
            "Graph is directed: True\n",
            "\n",
            "Number of nodes: 10011\n",
            "Number of edges: 824999\n",
            "\n",
            ">> removed 1380 edges from the graph: 823619 edges \n",
            "\n",
            "Number of isolated nodes: 0\n"
          ]
        }
      ]
    },
    {
      "cell_type": "code",
      "source": [
        "degree_distrib = nx.degree_histogram(G)\n",
        "nodes = [i for i in range(0, len(degree_distrib))]\n",
        "\n",
        "degree_distrib = [degree_distrib[i] for i in range(len(degree_distrib))]\n",
        "\n",
        "visualize_degree_distrib(nodes, degree_distrib)"
      ],
      "metadata": {
        "colab": {
          "base_uri": "https://localhost:8080/",
          "height": 307
        },
        "id": "UHIqYSmQ8hGJ",
        "outputId": "d339500b-4ab3-4db4-fe9b-e506fa560802"
      },
      "execution_count": 8,
      "outputs": [
        {
          "output_type": "display_data",
          "data": {
            "text/plain": [
              "<Figure size 1200x300 with 2 Axes>"
            ],
            "image/png": "[encoded data removed]"
          },
          "metadata": {}
        }
      ]
    },
    {
      "cell_type": "code",
      "source": [
        "## For each topic, what are the most cited articles? → Edge analysis\n",
        "\n",
        "def top_cited_articles(class_id, n):\n",
        "\n",
        "  this_class = [x for x,y in enumerate(wikivitals.labels) if y == class_id]\n",
        "  subgraph = G.subgraph(this_class)\n",
        "\n",
        "  node_edge_counts = {node: subgraph.degree(node) for node in subgraph.nodes()}\n",
        "\n",
        "  top_nodes = {k: v for k, v in sorted(node_edge_counts.items(), key=lambda item: item[1], reverse=True)}\n",
        "\n",
        "  top_nodes_names = {wikivitals.names[idx]: count for idx, count in top_nodes.items()}\n",
        "\n",
        "  return [(k, top_nodes_names[k]) for k in list(top_nodes_names)][:n]"
      ],
      "metadata": {
        "id": "BFE1Rc4a_641"
      },
      "execution_count": 9,
      "outputs": []
    },
    {
      "cell_type": "code",
      "source": [
        "for i in range(10):\n",
        "\n",
        "  this_label = [key for key in label_id.keys() if label_id[key] == i][0]\n",
        "  this_top =  [x[0] for x in top_cited_articles(i, 5)]\n",
        "  this_top = [\"'\" + s + \"'\" for s in this_top]\n",
        "\n",
        "  print(f'{[this_label]} → {\", \".join(this_top)}')"
      ],
      "metadata": {
        "colab": {
          "base_uri": "https://localhost:8080/"
        },
        "id": "EqBqWO3hPD0q",
        "outputId": "889a190d-7c68-4ad8-934f-e9f9ecbebddb"
      },
      "execution_count": 10,
      "outputs": [
        {
          "output_type": "stream",
          "name": "stdout",
          "text": [
            "['Arts'] → 'Romanticism', 'Modernism', 'Symbolism (arts)', 'Modern art', 'Baroque'\n",
            "['Biological and health sciences'] → 'Taxonomy (biology)', 'Animal', 'Chordate', 'Plant', 'Mammal'\n",
            "['Everyday life'] → 'Marriage', 'Olympic Games', 'Softball', 'Rugby sevens', 'Association football'\n",
            "['Geography'] → 'Geographic coordinate system', 'France', 'Europe', 'United States', 'China'\n",
            "['History'] → 'Ottoman Empire', 'Roman Empire', 'Byzantine Empire', 'Russian Empire', 'British Empire'\n",
            "['Mathematics'] → 'Mathematical analysis', 'Real number', 'Geometry', 'Function (mathematics)', 'Mathematics'\n",
            "['People'] → 'Ralph Waldo Emerson', 'Aristotle', 'Bertrand Russell', 'Jean-Jacques Rousseau', 'Georg Wilhelm Friedrich Hegel'\n",
            "['Philosophy and religion'] → 'Religion', 'Christianity', 'Taoism', 'Mysticism', 'Pantheism'\n",
            "['Physical sciences'] → 'Oxygen', 'Hydrogen', 'Earth', 'Chemical element', 'Nitrogen'\n",
            "['Society and social sciences'] → 'Slavery', 'Law', 'English language', 'Latin', 'European Union'\n"
          ]
        }
      ]
    },
    {
      "cell_type": "code",
      "source": [
        "## WIKIPEDIA RACE"
      ],
      "metadata": {
        "id": "xrhQqRcYf3fm"
      },
      "execution_count": 11,
      "outputs": []
    },
    {
      "cell_type": "code",
      "source": [
        "def find_orphan_nodes(adjacency_matrix, graph):\n",
        "\n",
        "    orphan_nodes = []\n",
        "\n",
        "    for j in range(adjacency_matrix.shape[0]):\n",
        "\n",
        "        if np.all(adjacency_matrix[:, j] == 0): orphan_nodes.append(j)\n",
        "\n",
        "    for node in orphan_nodes:\n",
        "      if list(graph.predecessors(node)): raise ValueError(f'Node {node} is not orphan!')\n",
        "\n",
        "    print(f'\\n Orphan nodes: {len(orphan_nodes)}\\n')\n",
        "\n",
        "    return orphan_nodes"
      ],
      "metadata": {
        "id": "NBJRScXjE2CE"
      },
      "execution_count": 12,
      "outputs": []
    },
    {
      "cell_type": "code",
      "source": [
        "orphan_nodes = find_orphan_nodes(adj_matrix, G)"
      ],
      "metadata": {
        "colab": {
          "base_uri": "https://localhost:8080/"
        },
        "id": "1SxwUGXAFWD7",
        "outputId": "910b0f6d-616d-412f-fab8-0f21449920d5"
      },
      "execution_count": 13,
      "outputs": [
        {
          "output_type": "stream",
          "name": "stdout",
          "text": [
            "\n",
            " Orphan nodes: 30\n",
            "\n"
          ]
        }
      ]
    },
    {
      "cell_type": "code",
      "source": [
        "def find_dead_ends(adjacency_matrix, graph):\n",
        "\n",
        "    death_ends = []\n",
        "\n",
        "    for i in range(adjacency_matrix.shape[0]):\n",
        "\n",
        "        if np.all(adjacency_matrix[i, :] == 0): death_ends.append(i)\n",
        "\n",
        "    for node in death_ends:\n",
        "      if list(graph.successors(node)): raise ValueError(f'Node {node} is not dead end!')\n",
        "\n",
        "    print(f'\\n Dead end nodes: {len(death_ends)}\\n')\n",
        "\n",
        "    return death_ends"
      ],
      "metadata": {
        "id": "waii_vROK4fx"
      },
      "execution_count": 14,
      "outputs": []
    },
    {
      "cell_type": "code",
      "source": [
        "death_ends = find_dead_ends(adj_matrix, G)"
      ],
      "metadata": {
        "colab": {
          "base_uri": "https://localhost:8080/"
        },
        "id": "o3sYMx2cNpCA",
        "outputId": "125dfa00-122a-481f-a105-70fae0ebf712"
      },
      "execution_count": 15,
      "outputs": [
        {
          "output_type": "stream",
          "name": "stdout",
          "text": [
            "\n",
            " Dead end nodes: 2\n",
            "\n"
          ]
        }
      ]
    },
    {
      "cell_type": "code",
      "source": [],
      "metadata": {
        "id": "oiiKXmcgtpyP"
      },
      "execution_count": 15,
      "outputs": []
    },
    {
      "cell_type": "code",
      "source": [],
      "metadata": {
        "id": "XidAhF27tpz-"
      },
      "execution_count": 15,
      "outputs": []
    },
    {
      "cell_type": "code",
      "source": [
        "\n",
        "def dijkstra_shortest_path(graph, source, target):\n",
        "\n",
        "    distances = {node: float('inf') for node in graph.nodes()}\n",
        "    distances[source] = 0\n",
        "\n",
        "    predecessors = {node: None for node in graph.nodes()}\n",
        "\n",
        "    queue = [source]\n",
        "\n",
        "    while queue:\n",
        "        current_node = queue.pop(0)\n",
        "\n",
        "        if current_node == target:\n",
        "            path = []\n",
        "            backtrack_node = current_node\n",
        "            while backtrack_node is not None:\n",
        "                path.insert(0, backtrack_node)\n",
        "                backtrack_node = predecessors[backtrack_node]\n",
        "            return path\n",
        "\n",
        "\n",
        "        for neighbor in graph.neighbors(current_node):\n",
        "            if distances[neighbor] == float('inf'):  # Se non è stato visitato\n",
        "                distances[neighbor] = distances[current_node] + 1\n",
        "                predecessors[neighbor] = current_node\n",
        "                queue.append(neighbor)\n",
        "\n",
        "\n",
        "    return []\n"
      ],
      "metadata": {
        "id": "1rrptcW-tp3X"
      },
      "execution_count": 16,
      "outputs": []
    },
    {
      "cell_type": "code",
      "source": [
        "shortest_path = nx.dijkstra_path(G, 0, 111)\n",
        "\n",
        "shortest_path = dijkstra_shortest_path(G, 0, 111)\n",
        "shortest_path"
      ],
      "metadata": {
        "colab": {
          "base_uri": "https://localhost:8080/"
        },
        "id": "XvMWCIrqtRjP",
        "outputId": "f5a2390c-0dff-4ad9-b23b-6078ec7a6b22"
      },
      "execution_count": 17,
      "outputs": [
        {
          "output_type": "execute_result",
          "data": {
            "text/plain": [
              "[0, 58, 3387, 111]"
            ]
          },
          "metadata": {},
          "execution_count": 17
        }
      ]
    },
    {
      "cell_type": "code",
      "source": [
        "iterations = 20000\n",
        "\n",
        "d = {}\n",
        "\n",
        "if os.path.exists(\"length_of_paths.pickle\"):\n",
        "  with open(\"length_of_paths.pickle\", 'rb') as f: d = pickle.load(f)\n",
        "\n",
        "else:\n",
        "  for i in tqdm(range(iterations)):\n",
        "\n",
        "    node1, node2 = random.sample(list(G.nodes()), 2)\n",
        "\n",
        "    # while node1 in death_ends or node2 in orphan_nodes:\n",
        "      #  node1, node2 = random.sample(list(G.nodes()), 2)\n",
        "\n",
        "    while (node1, node2) in d:\n",
        "      node1, node2 = random.sample(list(G.nodes()), 2)\n",
        "\n",
        "    shortest_path = dijkstra_shortest_path(G, node1, node2 )\n",
        "\n",
        "    d[(node1, node2)] = shortest_path\n",
        "\n",
        "  with open('length_of_paths.pickle', 'wb') as f: pickle.dump(d, f)\n"
      ],
      "metadata": {
        "id": "ieZG7g9js3Qg"
      },
      "execution_count": 18,
      "outputs": []
    },
    {
      "cell_type": "code",
      "source": [
        "len([(x,v) for x,v in d.items() if len(v) == 5]), len(d)"
      ],
      "metadata": {
        "colab": {
          "base_uri": "https://localhost:8080/"
        },
        "id": "JQtJ4ZmYBkB_",
        "outputId": "95a60ec8-4b8f-4489-a730-eb49a950770a"
      },
      "execution_count": 19,
      "outputs": [
        {
          "output_type": "execute_result",
          "data": {
            "text/plain": [
              "(1023, 20000)"
            ]
          },
          "metadata": {},
          "execution_count": 19
        }
      ]
    },
    {
      "cell_type": "code",
      "source": [
        "counter = dict(Counter(len(v) for v in d.values()))\n",
        "sorted_counter = dict(sorted(counter.items()))\n",
        "\n",
        "print(f'\\n{sorted_counter}\\n')\n",
        "\n",
        "show_length_of_paths(sorted_counter)"
      ],
      "metadata": {
        "colab": {
          "base_uri": "https://localhost:8080/",
          "height": 542
        },
        "id": "bagmMHraBsVn",
        "outputId": "63a26966-0857-40e1-abde-0761b34130d0"
      },
      "execution_count": 20,
      "outputs": [
        {
          "output_type": "stream",
          "name": "stdout",
          "text": [
            "\n",
            "{0: 61, 2: 159, 3: 5561, 4: 13185, 5: 1023, 6: 11}\n",
            "\n"
          ]
        },
        {
          "output_type": "display_data",
          "data": {
            "text/plain": [
              "<Figure size 640x480 with 1 Axes>"
            ],
            "image/png": "[encoded data removed]"
          },
          "metadata": {}
        }
      ]
    },
    {
      "cell_type": "code",
      "source": [
        "total_keys = sum(list(sorted_counter.values()))\n",
        "\n",
        "weighted_sum = sum(length * count for length, count in sorted_counter.items())\n",
        "\n",
        "weighted_average = round(weighted_sum / total_keys, 2)\n",
        "\n",
        "print(f\"media ponderata {weighted_average}\")"
      ],
      "metadata": {
        "colab": {
          "base_uri": "https://localhost:8080/"
        },
        "id": "bd2zKLksCx7E",
        "outputId": "6f639ced-9897-4c7b-9d6b-0dd8216f5d5e"
      },
      "execution_count": 21,
      "outputs": [
        {
          "output_type": "stream",
          "name": "stdout",
          "text": [
            "media ponderata 3.75\n"
          ]
        }
      ]
    },
    {
      "cell_type": "markdown",
      "source": [
        "--------------------------------------------------------------------------\n",
        "---------------------------------------------------------------------------"
      ],
      "metadata": {
        "id": "o2lHG7YHHu-m"
      }
    },
    {
      "cell_type": "code",
      "source": [
        "def get_neighbors_at_levels(G, node, max_level=7):\n",
        "\n",
        "    levels = {0: [node]}\n",
        "    visited = {node}\n",
        "\n",
        "    for level in range(1, max_level + 1):\n",
        "        neighbors = set()\n",
        "\n",
        "        for n in levels[level - 1]:\n",
        "            neighbors.update(set(G.successors(n)) - visited)\n",
        "\n",
        "        if not neighbors: break\n",
        "\n",
        "        levels[level] = list(neighbors)\n",
        "        visited.update(neighbors)\n",
        "\n",
        "    return levels"
      ],
      "metadata": {
        "id": "rKQ4o3VGH0mp"
      },
      "execution_count": 22,
      "outputs": []
    },
    {
      "cell_type": "code",
      "source": [
        "node_index = 2951\n",
        "\n",
        "result = get_neighbors_at_levels(G, node_index, max_level=7)\n",
        "\n",
        "print(f'Node: {wikivitals.names[2951]} - idx: {node_index}\\n')\n",
        "\n",
        "for k,v in result.items():\n",
        "  print(f'level: {k} -> connections reached: [{len(v)}]')"
      ],
      "metadata": {
        "colab": {
          "base_uri": "https://localhost:8080/"
        },
        "id": "PTiK0FhYOJVo",
        "outputId": "750bb44b-a4ac-4027-ef8a-ef58a4603893"
      },
      "execution_count": 53,
      "outputs": [
        {
          "output_type": "stream",
          "name": "stdout",
          "text": [
            "Node: Europe - idx: 2951\n",
            "\n",
            "level: 0 -> connections reached: [1]\n",
            "level: 1 -> connections reached: [679]\n",
            "level: 2 -> connections reached: [6927]\n",
            "level: 3 -> connections reached: [2354]\n",
            "level: 4 -> connections reached: [20]\n"
          ]
        }
      ]
    },
    {
      "cell_type": "code",
      "source": [
        "def cum_sum(una_lista):\n",
        "  cumulative_sums = []\n",
        "  cumulative_sum = 0\n",
        "  for lst in una_lista.values():\n",
        "      cumulative_sum += len(lst)\n",
        "      cumulative_sums.append(cumulative_sum)\n",
        "\n",
        "  return cumulative_sums"
      ],
      "metadata": {
        "id": "FpVy6oZznfD2"
      },
      "execution_count": 24,
      "outputs": []
    },
    {
      "cell_type": "code",
      "source": [
        "indexes= [2951, 7108, 8319, 5365, 2526]\n",
        "\n",
        "data = {}\n",
        "\n",
        "for i in range(len(indexes)):\n",
        "\n",
        "  results = get_neighbors_at_levels(G, indexes[i], max_level=8)\n",
        "  data[wikivitals.names[indexes[i]]] = cum_sum(results)\n",
        "\n",
        "data, table  = deg_separation_plot(data, total_nodes = len(list(G.nodes())))"
      ],
      "metadata": {
        "colab": {
          "base_uri": "https://localhost:8080/",
          "height": 487
        },
        "id": "fHFqBIa0OVsZ",
        "outputId": "5259f549-6734-4e73-eb47-bc3acdf79e49"
      },
      "execution_count": 34,
      "outputs": [
        {
          "output_type": "display_data",
          "data": {
            "text/plain": [
              "<Figure size 640x480 with 1 Axes>"
            ],
            "image/png": "[encoded data removed]"
          },
          "metadata": {}
        }
      ]
    },
    {
      "cell_type": "code",
      "source": [
        "print(table)"
      ],
      "metadata": {
        "id": "70uj4gLTEjQv",
        "outputId": "358dc54a-c937-43b7-944e-123b62c4fa64",
        "colab": {
          "base_uri": "https://localhost:8080/"
        }
      },
      "execution_count": 35,
      "outputs": [
        {
          "output_type": "stream",
          "name": "stdout",
          "text": [
            "+--------+--------+--------+---------+---------+---------+--------+\n",
            "|  Node  | Hop 1  | Hop 2  |  Hop 3  |  Hop 4  |  Hop 5  | Hop 6  |\n",
            "+--------+--------+--------+---------+---------+---------+--------+\n",
            "| Europe | 0.01 % | 6.79 % | 75.99 % | 99.5 %  | 99.7 %  |        |\n",
            "| Plato  | 0.01 % | 3.95 % | 60.18 % | 99.25 % | 99.7 %  |        |\n",
            "|  Snow  | 0.01 % | 1.62 % | 52.0 %  | 99.15 % | 99.69 % | 99.7 % |\n",
            "| Liquor | 0.01 % | 0.48 % | 28.49 % | 97.32 % | 99.67 % | 99.7 % |\n",
            "| Dream  | 0.01 % | 0.96 % | 41.1 %  | 98.49 % | 99.69 % | 99.7 % |\n",
            "+--------+--------+--------+---------+---------+---------+--------+\n"
          ]
        }
      ]
    },
    {
      "cell_type": "code",
      "source": [
        "round((len(orphan_nodes) + len(death_ends) ) / len(list(G.nodes()))*100, 4)"
      ],
      "metadata": {
        "colab": {
          "base_uri": "https://localhost:8080/"
        },
        "id": "kNAsbfN-5yW4",
        "outputId": "3bef6d38-f36b-44f4-d785-b7a74e4bf31f"
      },
      "execution_count": 61,
      "outputs": [
        {
          "output_type": "execute_result",
          "data": {
            "text/plain": [
              "0.3196"
            ]
          },
          "metadata": {},
          "execution_count": 61
        }
      ]
    },
    {
      "cell_type": "code",
      "source": [],
      "metadata": {
        "id": "kc_W4Kv5_riR"
      },
      "execution_count": 27,
      "outputs": []
    },
    {
      "cell_type": "code",
      "source": [],
      "metadata": {
        "id": "8bO2S0kPKbqz"
      },
      "execution_count": null,
      "outputs": []
    },
    {
      "cell_type": "code",
      "source": [],
      "metadata": {
        "id": "-D91g1zgKbxN"
      },
      "execution_count": null,
      "outputs": []
    }
  ]
}