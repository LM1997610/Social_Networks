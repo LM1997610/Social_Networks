{
  "nbformat": 4,
  "nbformat_minor": 0,
  "metadata": {
    "colab": {
      "provenance": [],
      "authorship_tag": "ABX9TyMhqsEFRmD0aPw20QkVZjYb",
      "include_colab_link": true
    },
    "kernelspec": {
      "name": "python3",
      "display_name": "Python 3"
    },
    "language_info": {
      "name": "python"
    }
  },
  "cells": [
    {
      "cell_type": "markdown",
      "metadata": {
        "id": "view-in-github",
        "colab_type": "text"
      },
      "source": [
        "<a href=\"https://colab.research.google.com/github/LM1997610/Social_Networks/blob/main/Project/Untitled30.ipynb\" target=\"_parent\"><img src=\"https://colab.research.google.com/assets/colab-badge.svg\" alt=\"Open In Colab\"/></a>"
      ]
    },
    {
      "cell_type": "markdown",
      "source": [
        "# <h1><center>Social Networks and Online Markets</center></h1>\n",
        "## <h2><center>Aris project</center></h2>\n",
        "## <h4><center>2023/2024</center></h4>\n",
        "## <h3><center>Luca Mazzucco: 1997610</center></h3>"
      ],
      "metadata": {
        "id": "0490GC3Ekk7n"
      }
    },
    {
      "cell_type": "code",
      "source": [
        "! pip -q install scikit-network"
      ],
      "metadata": {
        "colab": {
          "base_uri": "https://localhost:8080/"
        },
        "id": "n_HOJbfm35rJ",
        "outputId": "f2ba5d5d-7c34-477e-e840-5fc9f7dc20c5"
      },
      "execution_count": 1,
      "outputs": [
        {
          "output_type": "stream",
          "name": "stdout",
          "text": [
            "\u001b[2K     \u001b[90m━━━━━━━━━━━━━━━━━━━━━━━━━━━━━━━━━━━━━━━━\u001b[0m \u001b[32m6.0/6.0 MB\u001b[0m \u001b[31m18.4 MB/s\u001b[0m eta \u001b[36m0:00:00\u001b[0m\n",
            "\u001b[?25h"
          ]
        }
      ]
    },
    {
      "cell_type": "code",
      "source": [
        "import os\n",
        "\n",
        "import pickle\n",
        "import random\n",
        "import numpy as np\n",
        "import networkx as nx\n",
        "import matplotlib.pyplot as plt\n",
        "\n",
        "from tqdm.auto import tqdm\n",
        "from collections import Counter\n",
        "from tabulate import tabulate\n",
        "\n",
        "from sknetwork.data import load_netset"
      ],
      "metadata": {
        "id": "8KJBoy1qG_ip"
      },
      "execution_count": 1,
      "outputs": []
    },
    {
      "cell_type": "code",
      "source": [
        "! git clone -q https://github.com/LM1997610/Social_Networks\n",
        "\n",
        "if os.getcwd().split('/')[-1] != 'Social_Networks':\n",
        "   os.chdir('Social_Networks/Project')"
      ],
      "metadata": {
        "id": "yDM5YYgQJ7bh",
        "outputId": "4a130443-1eb6-4327-c29f-16f0682a3e28",
        "colab": {
          "base_uri": "https://localhost:8080/"
        }
      },
      "execution_count": 2,
      "outputs": [
        {
          "output_type": "stream",
          "name": "stdout",
          "text": [
            "fatal: destination path 'Social_Networks' already exists and is not an empty directory.\n"
          ]
        }
      ]
    },
    {
      "cell_type": "code",
      "source": [
        "from visualize import visualize_degree_distrib, show_length_of_paths"
      ],
      "metadata": {
        "id": "Riw4flxOKOe0"
      },
      "execution_count": 3,
      "outputs": []
    },
    {
      "cell_type": "code",
      "source": [
        "wikivitals = load_netset('wikivitals')"
      ],
      "metadata": {
        "colab": {
          "base_uri": "https://localhost:8080/"
        },
        "id": "SEsOzBpj3jkR",
        "outputId": "b20ca2e0-2248-4b17-bd3a-90db978ec801"
      },
      "execution_count": 4,
      "outputs": [
        {
          "output_type": "stream",
          "name": "stdout",
          "text": [
            "Parsing files...\n",
            "Done.\n"
          ]
        }
      ]
    },
    {
      "cell_type": "code",
      "source": [
        "label_id = {name: i for i, name in enumerate(wikivitals.names_labels)}\n",
        "\n",
        "counted_topics = {category: Counter(wikivitals.labels)[id] for category, id in label_id.items()}\n",
        "\n",
        "table_data = [(category, count) for category, count in counted_topics.items()]\n",
        "print(tabulate(table_data, headers=[\"Label\", \"Counter\"]))"
      ],
      "metadata": {
        "colab": {
          "base_uri": "https://localhost:8080/"
        },
        "id": "sQbUYjhw4DHT",
        "outputId": "b0c86862-ee31-49f0-8c45-333a7c8fc208"
      },
      "execution_count": 5,
      "outputs": [
        {
          "output_type": "stream",
          "name": "stdout",
          "text": [
            "Label                             Counter\n",
            "------------------------------  ---------\n",
            "Arts                                  673\n",
            "Biological and health sciences       1479\n",
            "Everyday life                         479\n",
            "Geography                            1201\n",
            "History                               680\n",
            "Mathematics                           300\n",
            "People                               1991\n",
            "Philosophy and religion               435\n",
            "Physical sciences                    1097\n",
            "Society and social sciences           930\n",
            "Technology                            746\n"
          ]
        }
      ]
    },
    {
      "cell_type": "code",
      "source": [
        "adj_matrix = wikivitals.adjacency.toarray().astype(int)\n",
        "\n",
        "G = nx.DiGraph(wikivitals.adjacency.toarray())\n",
        "#G = nx.from_numpy_array(wikivitals.adjacency.toarray())\n",
        "\n",
        "print()\n",
        "print(f'Graph is undirected: {np.array_equal(adj_matrix, adj_matrix.T)}')\n",
        "print(f'Graph is directed: {G.is_directed()}\\n')\n",
        "\n",
        "print(f'Number of nodes: {len(G.nodes)}')\n",
        "print(f'Number of edges: {len(G.edges)}\\n')\n",
        "\n",
        "self_loops = list(nx.selfloop_edges(G))\n",
        "G.remove_edges_from(self_loops)\n",
        "\n",
        "print(f'>> removed {len(self_loops)} edges from the graph: {len(G.edges)} edges \\n')\n",
        "\n",
        "isolated_nodes = [node for node in G.nodes if G.degree(node) == 0]\n",
        "print(f'Number of isolated nodes: {len(isolated_nodes)}')"
      ],
      "metadata": {
        "colab": {
          "base_uri": "https://localhost:8080/"
        },
        "id": "mxo5Po2I4Hls",
        "outputId": "9663a0c3-1787-444b-9c6c-2b22eea912f6"
      },
      "execution_count": 58,
      "outputs": [
        {
          "output_type": "stream",
          "name": "stdout",
          "text": [
            "\n",
            "Graph is undirected: False\n",
            "Graph is directed: True\n",
            "\n",
            "Number of nodes: 10011\n",
            "Number of edges: 824999\n",
            "\n",
            ">> removed 1380 edges from the graph: 823619 edges \n",
            "\n",
            "Number of isolated nodes: 0\n"
          ]
        }
      ]
    },
    {
      "cell_type": "code",
      "source": [
        "degree_distrib = nx.degree_histogram(G)\n",
        "nodes = [i for i in range(0, len(degree_distrib))]\n",
        "\n",
        "degree_distrib = [degree_distrib[i] for i in range(len(degree_distrib))]\n",
        "\n",
        "visualize_degree_distrib(nodes, degree_distrib)"
      ],
      "metadata": {
        "colab": {
          "base_uri": "https://localhost:8080/",
          "height": 396
        },
        "id": "UHIqYSmQ8hGJ",
        "outputId": "ff8523ac-3250-44ef-b602-e8afef636a28"
      },
      "execution_count": 7,
      "outputs": [
        {
          "output_type": "display_data",
          "data": {
            "text/plain": [
              "<Figure size 1200x300 with 2 Axes>"
            ],
            "image/png": "[encoded data removed]"
          },
          "metadata": {}
        }
      ]
    },
    {
      "cell_type": "code",
      "source": [
        "## For each topic, what are the most cited articles? → Edge analysis\n",
        "\n",
        "def top_cited_articles(class_id, n):\n",
        "\n",
        "  this_class = [x for x,y in enumerate(wikivitals.labels) if y == class_id]\n",
        "  subgraph = G.subgraph(this_class)\n",
        "\n",
        "  node_edge_counts = {node: subgraph.degree(node) for node in subgraph.nodes()}\n",
        "\n",
        "  top_nodes = {k: v for k, v in sorted(node_edge_counts.items(), key=lambda item: item[1], reverse=True)}\n",
        "\n",
        "  top_nodes_names = {wikivitals.names[idx]: count for idx, count in top_nodes.items()}\n",
        "\n",
        "  return [(k, top_nodes_names[k]) for k in list(top_nodes_names)][:n]"
      ],
      "metadata": {
        "id": "BFE1Rc4a_641"
      },
      "execution_count": 8,
      "outputs": []
    },
    {
      "cell_type": "code",
      "source": [
        "for i in range(10):\n",
        "\n",
        "  this_label = [key for key in label_id.keys() if label_id[key] == i][0]\n",
        "  this_top =  [x[0] for x in top_cited_articles(i, 5)]\n",
        "  this_top = [\"'\" + s + \"'\" for s in this_top]\n",
        "\n",
        "  print(f'{[this_label]} → {\", \".join(this_top)}')"
      ],
      "metadata": {
        "colab": {
          "base_uri": "https://localhost:8080/"
        },
        "id": "EqBqWO3hPD0q",
        "outputId": "6c462369-ca95-4869-9bb1-8eb11bc4b797"
      },
      "execution_count": 9,
      "outputs": [
        {
          "output_type": "stream",
          "name": "stdout",
          "text": [
            "['Arts'] → 'Romanticism', 'Modernism', 'Symbolism (arts)', 'Modern art', 'Baroque'\n",
            "['Biological and health sciences'] → 'Taxonomy (biology)', 'Animal', 'Chordate', 'Plant', 'Mammal'\n",
            "['Everyday life'] → 'Marriage', 'Olympic Games', 'Softball', 'Rugby sevens', 'Association football'\n",
            "['Geography'] → 'Geographic coordinate system', 'France', 'Europe', 'United States', 'China'\n",
            "['History'] → 'Ottoman Empire', 'Roman Empire', 'Byzantine Empire', 'Russian Empire', 'British Empire'\n",
            "['Mathematics'] → 'Mathematical analysis', 'Real number', 'Geometry', 'Function (mathematics)', 'Mathematics'\n",
            "['People'] → 'Ralph Waldo Emerson', 'Aristotle', 'Bertrand Russell', 'Jean-Jacques Rousseau', 'Georg Wilhelm Friedrich Hegel'\n",
            "['Philosophy and religion'] → 'Religion', 'Christianity', 'Taoism', 'Mysticism', 'Pantheism'\n",
            "['Physical sciences'] → 'Oxygen', 'Hydrogen', 'Earth', 'Chemical element', 'Nitrogen'\n",
            "['Society and social sciences'] → 'Slavery', 'Law', 'English language', 'Latin', 'European Union'\n"
          ]
        }
      ]
    },
    {
      "cell_type": "code",
      "source": [
        "## WIKIPEDIA RACE"
      ],
      "metadata": {
        "id": "xrhQqRcYf3fm"
      },
      "execution_count": 10,
      "outputs": []
    },
    {
      "cell_type": "code",
      "source": [
        "def find_orphan_nodes(adjacency_matrix, graph):\n",
        "\n",
        "    orphan_nodes = []\n",
        "\n",
        "    for j in range(adjacency_matrix.shape[0]):\n",
        "\n",
        "        if np.all(adjacency_matrix[:, j] == 0): orphan_nodes.append(j)\n",
        "\n",
        "    for node in orphan_nodes:\n",
        "      if list(graph.predecessors(node)): raise ValueError(f'Node {node} is not orphan!')\n",
        "\n",
        "    print(f'\\n Orphan nodes: {len(orphan_nodes)}\\n')\n",
        "\n",
        "    return orphan_nodes"
      ],
      "metadata": {
        "id": "NBJRScXjE2CE"
      },
      "execution_count": 11,
      "outputs": []
    },
    {
      "cell_type": "code",
      "source": [
        "orphan_nodes = find_orphan_nodes(adj_matrix, G)"
      ],
      "metadata": {
        "colab": {
          "base_uri": "https://localhost:8080/"
        },
        "id": "1SxwUGXAFWD7",
        "outputId": "0edf89aa-b3cd-44ab-e759-1f221c704d1c"
      },
      "execution_count": 12,
      "outputs": [
        {
          "output_type": "stream",
          "name": "stdout",
          "text": [
            "\n",
            " Orphan nodes: 30\n",
            "\n"
          ]
        }
      ]
    },
    {
      "cell_type": "code",
      "source": [
        "def find_dead_ends(adjacency_matrix, graph):\n",
        "\n",
        "    death_ends = []\n",
        "\n",
        "    for i in range(adjacency_matrix.shape[0]):\n",
        "\n",
        "        if np.all(adjacency_matrix[i, :] == 0): death_ends.append(i)\n",
        "\n",
        "    for node in death_ends:\n",
        "      if list(graph.successors(node)): raise ValueError(f'Node {node} is not dead end!')\n",
        "\n",
        "    print(f'\\n Dead end nodes: {len(death_ends)}\\n')\n",
        "\n",
        "    return death_ends"
      ],
      "metadata": {
        "id": "waii_vROK4fx"
      },
      "execution_count": 13,
      "outputs": []
    },
    {
      "cell_type": "code",
      "source": [
        "death_ends = find_dead_ends(adj_matrix, G)"
      ],
      "metadata": {
        "colab": {
          "base_uri": "https://localhost:8080/"
        },
        "id": "o3sYMx2cNpCA",
        "outputId": "ce98120b-1cd8-45b4-9e57-f5a9fd7b43af"
      },
      "execution_count": 14,
      "outputs": [
        {
          "output_type": "stream",
          "name": "stdout",
          "text": [
            "\n",
            " Dead end nodes: 2\n",
            "\n"
          ]
        }
      ]
    },
    {
      "cell_type": "code",
      "source": [],
      "metadata": {
        "id": "oiiKXmcgtpyP"
      },
      "execution_count": 14,
      "outputs": []
    },
    {
      "cell_type": "code",
      "source": [],
      "metadata": {
        "id": "XidAhF27tpz-"
      },
      "execution_count": 14,
      "outputs": []
    },
    {
      "cell_type": "code",
      "source": [
        "\n",
        "def dijkstra_shortest_path(graph, source, target):\n",
        "\n",
        "    distances = {node: float('inf') for node in graph.nodes()}\n",
        "    distances[source] = 0\n",
        "\n",
        "    predecessors = {node: None for node in graph.nodes()}\n",
        "\n",
        "    queue = [source]\n",
        "\n",
        "    while queue:\n",
        "        current_node = queue.pop(0)\n",
        "\n",
        "        if current_node == target:\n",
        "            path = []\n",
        "            backtrack_node = current_node\n",
        "            while backtrack_node is not None:\n",
        "                path.insert(0, backtrack_node)\n",
        "                backtrack_node = predecessors[backtrack_node]\n",
        "            return path\n",
        "\n",
        "\n",
        "        for neighbor in graph.neighbors(current_node):\n",
        "            if distances[neighbor] == float('inf'):  # Se non è stato visitato\n",
        "                distances[neighbor] = distances[current_node] + 1\n",
        "                predecessors[neighbor] = current_node\n",
        "                queue.append(neighbor)\n",
        "\n",
        "\n",
        "    return []\n"
      ],
      "metadata": {
        "id": "1rrptcW-tp3X"
      },
      "execution_count": 15,
      "outputs": []
    },
    {
      "cell_type": "code",
      "source": [
        "shortest_path = nx.dijkstra_path(G, 0, 111)\n",
        "\n",
        "shortest_path = dijkstra_shortest_path(G, 0, 111)\n",
        "shortest_path"
      ],
      "metadata": {
        "colab": {
          "base_uri": "https://localhost:8080/"
        },
        "id": "XvMWCIrqtRjP",
        "outputId": "b0642863-859d-4f0a-a63c-001c86288b2b"
      },
      "execution_count": 16,
      "outputs": [
        {
          "output_type": "execute_result",
          "data": {
            "text/plain": [
              "[0, 58, 3387, 111]"
            ]
          },
          "metadata": {},
          "execution_count": 16
        }
      ]
    },
    {
      "cell_type": "code",
      "source": [
        "iterations = 20000\n",
        "\n",
        "d = {}\n",
        "\n",
        "if os.path.exists(\"length_of_paths.pickle\"):\n",
        "  with open(\"length_of_paths.pickle\", 'rb') as f: d = pickle.load(f)\n",
        "\n",
        "else:\n",
        "  for i in tqdm(range(iterations)):\n",
        "\n",
        "    node1, node2 = random.sample(list(G.nodes()), 2)\n",
        "\n",
        "    # while node1 in death_ends or node2 in orphan_nodes:\n",
        "      #  node1, node2 = random.sample(list(G.nodes()), 2)\n",
        "\n",
        "    while (node1, node2) in d:\n",
        "      node1, node2 = random.sample(list(G.nodes()), 2)\n",
        "\n",
        "    shortest_path = dijkstra_shortest_path(G, node1, node2 )\n",
        "\n",
        "    d[(node1, node2)] = shortest_path\n",
        "\n",
        "  with open('length_of_paths.pickle', 'wb') as f: pickle.dump(d, f)\n"
      ],
      "metadata": {
        "id": "ieZG7g9js3Qg"
      },
      "execution_count": 17,
      "outputs": []
    },
    {
      "cell_type": "code",
      "source": [
        "len([(x,v) for x,v in d.items() if len(v) == 5]), len(d)"
      ],
      "metadata": {
        "colab": {
          "base_uri": "https://localhost:8080/"
        },
        "id": "JQtJ4ZmYBkB_",
        "outputId": "6919cedb-a86d-475e-8ebf-847ff33c1be1"
      },
      "execution_count": 18,
      "outputs": [
        {
          "output_type": "execute_result",
          "data": {
            "text/plain": [
              "(1023, 20000)"
            ]
          },
          "metadata": {},
          "execution_count": 18
        }
      ]
    },
    {
      "cell_type": "code",
      "source": [
        "counter = dict(Counter(len(v) for v in d.values()))\n",
        "sorted_counter = dict(sorted(counter.items()))\n",
        "\n",
        "print(f'\\n{sorted_counter}\\n')\n",
        "\n",
        "show_length_of_paths(sorted_counter)"
      ],
      "metadata": {
        "colab": {
          "base_uri": "https://localhost:8080/",
          "height": 564
        },
        "id": "bagmMHraBsVn",
        "outputId": "1be1e568-53e3-4771-c90a-4e695df762cb"
      },
      "execution_count": 19,
      "outputs": [
        {
          "output_type": "stream",
          "name": "stdout",
          "text": [
            "\n",
            "{0: 61, 2: 159, 3: 5561, 4: 13185, 5: 1023, 6: 11}\n",
            "\n"
          ]
        },
        {
          "output_type": "display_data",
          "data": {
            "text/plain": [
              "<Figure size 640x480 with 1 Axes>"
            ],
            "image/png": "[encoded data removed]"
          },
          "metadata": {}
        }
      ]
    },
    {
      "cell_type": "code",
      "source": [
        "total_keys = sum(list(sorted_counter.values()))\n",
        "\n",
        "weighted_sum = sum(length * count for length, count in sorted_counter.items())\n",
        "\n",
        "weighted_average = round(weighted_sum / total_keys, 2)\n",
        "\n",
        "print(f\"media ponderata {weighted_average}\")"
      ],
      "metadata": {
        "colab": {
          "base_uri": "https://localhost:8080/"
        },
        "id": "bd2zKLksCx7E",
        "outputId": "7d2c5b5c-790a-49f2-e1f3-fcd6c77f25a9"
      },
      "execution_count": 20,
      "outputs": [
        {
          "output_type": "stream",
          "name": "stdout",
          "text": [
            "media ponderata 3.75\n"
          ]
        }
      ]
    },
    {
      "cell_type": "code",
      "source": [
        "def get_neighbors_at_levels(G, node, max_level=7):\n",
        "\n",
        "    levels = {0: [node]}\n",
        "    visited = {node}\n",
        "\n",
        "    for level in range(1, max_level + 1):\n",
        "        neighbors = set()\n",
        "        for n in levels[level - 1]:\n",
        "            neighbors.update(set(G.successors(n)) - visited)\n",
        "        if not neighbors:\n",
        "            break\n",
        "        levels[level] = list(neighbors)\n",
        "        visited.update(neighbors)\n",
        "\n",
        "    return levels\n"
      ],
      "metadata": {
        "id": "rKQ4o3VGH0mp"
      },
      "execution_count": 44,
      "outputs": []
    },
    {
      "cell_type": "code",
      "source": [
        "result = get_neighbors_at_levels(G, 2951, max_level=7)\n",
        "\n",
        "for k,v in result.items():\n",
        "  print(k, len(v))"
      ],
      "metadata": {
        "id": "PTiK0FhYOJVo",
        "outputId": "403b5c86-972b-4f72-e915-0f70e0a9eb7c",
        "colab": {
          "base_uri": "https://localhost:8080/"
        }
      },
      "execution_count": 188,
      "outputs": [
        {
          "output_type": "stream",
          "name": "stdout",
          "text": [
            "0 1\n",
            "1 679\n",
            "2 6927\n",
            "3 2354\n",
            "4 20\n"
          ]
        }
      ]
    },
    {
      "cell_type": "code",
      "source": [
        "def cum_sum(una_lista):\n",
        "  cumulative_sums = []\n",
        "  cumulative_sum = 0\n",
        "  for lst in una_lista.values():\n",
        "      cumulative_sum += len(lst)\n",
        "      cumulative_sums.append(cumulative_sum)\n",
        "\n",
        "  return cumulative_sums"
      ],
      "metadata": {
        "id": "FpVy6oZznfD2"
      },
      "execution_count": 88,
      "outputs": []
    },
    {
      "cell_type": "code",
      "source": [
        "\n",
        "indexes= [2951, 7108, 8319, 5365, 2526]\n",
        "\n",
        "data = {wikivitals.names[indexes[i]]:[] for i in  range(len(indexes))}\n",
        "\n",
        "for i in range(len(indexes)):\n",
        "\n",
        "  result = get_neighbors_at_levels(G, indexes[i], max_level=8)\n",
        "  result = cum_sum(result)\n",
        "  data[wikivitals.names[indexes[i]]] = result\n",
        "\n"
      ],
      "metadata": {
        "id": "fHFqBIa0OVsZ"
      },
      "execution_count": 262,
      "outputs": []
    },
    {
      "cell_type": "code",
      "source": [
        "data"
      ],
      "metadata": {
        "id": "uaGMuWE3-JBf",
        "outputId": "2cdd98bb-aff4-44ff-dae8-fe875d553dcc",
        "colab": {
          "base_uri": "https://localhost:8080/"
        }
      },
      "execution_count": 263,
      "outputs": [
        {
          "output_type": "execute_result",
          "data": {
            "text/plain": [
              "{'Europe': [1, 680, 7607, 9961, 9981],\n",
              " 'Plato': [1, 395, 6025, 9936, 9981],\n",
              " 'Snow': [1, 162, 5206, 9926, 9980, 9981],\n",
              " 'Liquor': [1, 48, 2852, 9743, 9978, 9981],\n",
              " 'Dream': [1, 96, 4115, 9860, 9980, 9981]}"
            ]
          },
          "metadata": {},
          "execution_count": 263
        }
      ]
    },
    {
      "cell_type": "code",
      "source": [
        "def do_a_plot(data, total_nodes):\n",
        "\n",
        "  table_data = []\n",
        "\n",
        "  for key, value_list in data.items():\n",
        "\n",
        "    percentages = [str((round((size / total_nodes) * 100, 2)))+\" %\" for size in value_list]\n",
        "    table_data.append([key] + percentages)\n",
        "\n",
        "    plt.plot(range(len(value_list)), value_list, alpha = 0.65, label=key)\n",
        "\n",
        "  headers = [\"Node\"] + [f\"Hop {i+1}\" for i in range(len(result))]\n",
        "  this_table = tabulate(table_data, headers=headers, tablefmt=\"pretty\")\n",
        "\n",
        "  plt.gca().spines['right'].set_color('none')\n",
        "  plt.gca().spines['top'].set_color('none')\n",
        "\n",
        "  plt.title(\"\\n\\n\")\n",
        "  plt.xlabel(\"\\n Degrees of Separation \\n\", fontsize=14)\n",
        "  plt.ylabel(\"N. of Articles \\n\", fontsize= 14)\n",
        "\n",
        "\n",
        "  plt.grid()\n",
        "  plt.legend(loc =\"lower right\", prop={'size': 9})\n",
        "  plt.show()\n",
        "\n",
        "  return data, this_table\n"
      ],
      "metadata": {
        "id": "Ib-7VxuaxVVV"
      },
      "execution_count": 268,
      "outputs": []
    },
    {
      "cell_type": "code",
      "source": [
        "table  = do_a_plot(data, 10000)"
      ],
      "metadata": {
        "id": "kNAsbfN-5yW4",
        "outputId": "fb2f91c7-304f-404e-f55a-259b333d8ad2",
        "colab": {
          "base_uri": "https://localhost:8080/",
          "height": 562
        }
      },
      "execution_count": 265,
      "outputs": [
        {
          "output_type": "display_data",
          "data": {
            "text/plain": [
              "<Figure size 640x480 with 1 Axes>"
            ],
            "image/png": "[encoded data removed]"
          },
          "metadata": {}
        }
      ]
    },
    {
      "cell_type": "code",
      "source": [
        "print(table)"
      ],
      "metadata": {
        "id": "xurTxjj1_l_L",
        "outputId": "485e4b47-fb3f-480b-d2bc-71766a4ce241",
        "colab": {
          "base_uri": "https://localhost:8080/"
        }
      },
      "execution_count": 266,
      "outputs": [
        {
          "output_type": "stream",
          "name": "stdout",
          "text": [
            "+--------+--------+--------+---------+---------+---------+--------+\n",
            "|  Node  | Hop 1  | Hop 2  |  Hop 3  |  Hop 4  |  Hop 5  | Hop 6  |\n",
            "+--------+--------+--------+---------+---------+---------+--------+\n",
            "| Europe | 0.01 % | 6.79 % | 75.99 % | 99.5 %  | 99.7 %  |        |\n",
            "| Plato  | 0.01 % | 3.95 % | 60.18 % | 99.25 % | 99.7 %  |        |\n",
            "|  Snow  | 0.01 % | 1.62 % | 52.0 %  | 99.15 % | 99.69 % | 99.7 % |\n",
            "| Liquor | 0.01 % | 0.48 % | 28.49 % | 97.32 % | 99.67 % | 99.7 % |\n",
            "| Dream  | 0.01 % | 0.96 % | 41.1 %  | 98.49 % | 99.69 % | 99.7 % |\n",
            "+--------+--------+--------+---------+---------+---------+--------+\n"
          ]
        }
      ]
    },
    {
      "cell_type": "code",
      "source": [],
      "metadata": {
        "id": "kc_W4Kv5_riR"
      },
      "execution_count": null,
      "outputs": []
    }
  ]
}